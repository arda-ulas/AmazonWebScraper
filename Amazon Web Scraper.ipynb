{
 "cells": [
  {
   "cell_type": "code",
   "execution_count": 20,
   "id": "e3c2d098",
   "metadata": {},
   "outputs": [],
   "source": [
    "# import libraries\n",
    "\n",
    "from bs4 import BeautifulSoup\n",
    "import requests\n",
    "import time\n",
    "import datetime"
   ]
  },
  {
   "cell_type": "code",
   "execution_count": 17,
   "id": "572aa7d5",
   "metadata": {},
   "outputs": [
    {
     "name": "stdout",
     "output_type": "stream",
     "text": [
      "\n",
      "            Nintendo Switch™ with Neon Blue and Neon Red Joy‑Con™ (New Box)\n",
      "           \n",
      "\n",
      "                          $399.96\n",
      "                         \n",
      "\n",
      "\n",
      "\n",
      "\n",
      "\n",
      "                5.0 out of 5 stars\n",
      "               \n",
      "\n",
      "\n",
      "\n",
      "\n",
      "\n",
      "\n",
      "\n",
      "\n"
     ]
    }
   ],
   "source": [
    "# connect to website\n",
    "\n",
    "url = 'https://www.amazon.ca/Nintendo-SwitchTM-Neon-Blue-Joy-E2-80-91ConTM-dp-B0BFJWCYTL/dp/B0BFJWCYTL/ref=dp_ob_title_vg'\n",
    "\n",
    "headers = {\n",
    "    'accept': 'text/html,application/xhtml+xml,application/xml;q=0.9,image/avif,image/webp,image/apng,*/*;q=0.8,application/signed-exchange;v=b3;q=0.9',\n",
    "    'accept-encoding': 'gzip, deflate, br',\n",
    "    'accept-language': 'en-US,en;q=0.9,zh-CN;q=0.8,zh;q=0.7,tr;q=0.6',\n",
    "    'device-memory': '8',\n",
    "    'downlink': '10',\n",
    "    'dpr': '1.25',\n",
    "    'ect': '4g',\n",
    "    'referer': 'https://www.amazon.ca/Nintendo-Switch-Neon-Blue-Joy%E2%80%91/dp/B07VGRJDFY/ref=sr_1_2?crid=2479WGEHZ3ZBF&keywords=nintendo+switch&qid=1669412273&qu=eyJxc2MiOiI1LjAzIiwicXNhIjoiNS4zNiIsInFzcCI6IjUuMDcifQ%3D%3D&sprefix=nin%2Caps%2C113&sr=8-2',\n",
    "    'rtt': '100',\n",
    "    'sec-ch-device-memory': '8',\n",
    "    'sec-ch-dpr': '1.25',\n",
    "    'sec-ch-ua': '\"Google Chrome\";v=\"107\", \"Chromium\";v=\"107\", \"Not=A?Brand\";v=\"24\"',\n",
    "    'sec-ch-ua-mobile': '?0',\n",
    "    'sec-ch-ua-platform': '\"Windows\"',\n",
    "    'sec-ch-ua-platform-version': '\"10.0.0\"',\n",
    "    'sec-ch-viewport-width': '726',\n",
    "    'sec-fetch-dest': 'document',\n",
    "    'sec-fetch-mode': 'navigate',\n",
    "    'sec-fetch-site': 'same-origin',\n",
    "    'sec-fetch-user': '?1',\n",
    "    'upgrade-insecure-requests': '1',\n",
    "    'user-agent': 'Mozilla/5.0 (Windows NT 10.0; Win64; x64) AppleWebKit/537.36 (KHTML, like Gecko) Chrome/107.0.0.0 Safari/537.36',\n",
    "    'viewport-width': '726',\n",
    "}\n",
    "\n",
    "page = requests.get(url, headers=headers)\n",
    "\n",
    "soup1 = BeautifulSoup(page.content, 'html.parser')\n",
    "\n",
    "soup2 = BeautifulSoup(soup1.prettify(), 'html.parser')\n",
    "\n",
    "title = soup2.find('span', {'class': 'a-size-large product-title-word-break'}).get_text()\n",
    "\n",
    "price = soup2.find('span', {'class': 'a-offscreen'}).get_text()\n",
    "\n",
    "rating = soup2.find('span', {'class': 'reviewCountTextLinkedHistogram noUnderline'}).get_text()\n",
    "\n",
    "\n",
    "print(title)\n",
    "print(price)\n",
    "print(rating)"
   ]
  },
  {
   "cell_type": "code",
   "execution_count": 18,
   "id": "b6018969",
   "metadata": {},
   "outputs": [
    {
     "name": "stdout",
     "output_type": "stream",
     "text": [
      "Nintendo Switch™ with Neon Blue and Neon Red Joy‑Con™ (New Box)\n",
      "399.96\n",
      "5.0 out of 5 stars\n"
     ]
    }
   ],
   "source": [
    "# clean up the data\n",
    "\n",
    "price = price.strip()[1:]\n",
    "title = title.strip()\n",
    "rating = rating.strip()\n",
    "\n",
    "print(title)\n",
    "print(price)\n",
    "print(rating)"
   ]
  },
  {
   "cell_type": "code",
   "execution_count": 21,
   "id": "41f46108",
   "metadata": {},
   "outputs": [
    {
     "name": "stdout",
     "output_type": "stream",
     "text": [
      "2022-11-25\n"
     ]
    }
   ],
   "source": [
    "# create a timestamp to track when data was retrieved\n",
    "\n",
    "import datetime\n",
    "\n",
    "today = datetime.date.today()\n",
    "\n",
    "print(today)"
   ]
  },
  {
   "cell_type": "code",
   "execution_count": 23,
   "id": "b359f723",
   "metadata": {},
   "outputs": [],
   "source": [
    "# create csv and write headers and data into the file\n",
    "\n",
    "import csv\n",
    "\n",
    "header = ['Title', 'Price', 'Date', 'Rating']\n",
    "data = [title, price, today, rating]\n",
    "\n",
    "\n",
    "with open('AmazonWebScraper.csv', 'w', newline='', encoding='UTF8') as f:\n",
    "    writer = csv.writer(f)\n",
    "    writer.writerow(header)\n",
    "    writer.writerow(data)\n"
   ]
  },
  {
   "cell_type": "code",
   "execution_count": 19,
   "id": "82048693",
   "metadata": {},
   "outputs": [
    {
     "name": "stdout",
     "output_type": "stream",
     "text": [
      "                                                Title         Price  \\\n",
      "0   Nintendo Switch™ with Neon Blue and Neon Red J...  $399.98\\n      \n",
      "1   Nintendo Switch™ with Neon Blue and Neon Red J...  $399.98\\n      \n",
      "2   Nintendo Switch™ with Neon Blue and Neon Red J...  $399.98\\n      \n",
      "3   Nintendo Switch™ with Neon Blue and Neon Red J...  $399.98\\n      \n",
      "4   Nintendo Switch™ with Neon Blue and Neon Red J...  $399.98\\n      \n",
      "5   Nintendo Switch™ with Neon Blue and Neon Red J...  $399.98\\n      \n",
      "6   Nintendo Switch™ with Neon Blue and Neon Red J...  $399.98\\n      \n",
      "7   Nintendo Switch™ with Neon Blue and Neon Red J...  $399.98\\n      \n",
      "8   Nintendo Switch™ with Neon Blue and Neon Red J...  $399.98\\n      \n",
      "9   Nintendo Switch™ with Neon Blue and Neon Red J...  $399.98\\n      \n",
      "10  Nintendo Switch™ with Neon Blue and Neon Red J...  $399.98\\n      \n",
      "11  Nintendo Switch™ with Neon Blue and Neon Red J...  $399.98\\n      \n",
      "12  Nintendo Switch™ with Neon Blue and Neon Red J...  $399.98\\n      \n",
      "13  Nintendo Switch™ with Neon Blue and Neon Red J...  $399.98\\n      \n",
      "14  Nintendo Switch™ with Neon Blue and Neon Red J...  $399.98\\n      \n",
      "\n",
      "          Date  \n",
      "0   2022-11-22  \n",
      "1   2022-11-22  \n",
      "2   2022-11-22  \n",
      "3   2022-11-22  \n",
      "4   2022-11-22  \n",
      "5   2022-11-22  \n",
      "6   2022-11-22  \n",
      "7   2022-11-22  \n",
      "8   2022-11-22  \n",
      "9   2022-11-22  \n",
      "10  2022-11-22  \n",
      "11  2022-11-22  \n",
      "12  2022-11-22  \n",
      "13  2022-11-22  \n",
      "14  2022-11-22  \n"
     ]
    }
   ],
   "source": [
    "import pandas as pd\n",
    "\n",
    "df = pd.read_csv(r'C:\\Users\\ardau\\AmazonWebScraper.csv')\n",
    "\n",
    "print(df)"
   ]
  },
  {
   "cell_type": "code",
   "execution_count": 25,
   "id": "901b1b59",
   "metadata": {},
   "outputs": [],
   "source": [
    "# append the data to the csv\n",
    "\n",
    "with open('AmazonWebScraper.csv', 'a+', newline='', encoding='UTF8') as f:\n",
    "    writer = csv.writer(f)\n",
    "    writer.writerow(data)"
   ]
  },
  {
   "cell_type": "code",
   "execution_count": null,
   "id": "bd06b430",
   "metadata": {},
   "outputs": [],
   "source": [
    "# combine all of the code into one function\n",
    "\n",
    "def check_price():\n",
    "    url = 'https://www.amazon.ca/Nintendo-SwitchTM-Neon-Blue-Joy-E2-80-91ConTM-dp-B0BFJWCYTL/dp/B0BFJWCYTL/ref=dp_ob_title_vg'\n",
    "\n",
    "    headers = {\n",
    "        'accept': 'text/html,application/xhtml+xml,application/xml;q=0.9,image/avif,image/webp,image/apng,*/*;q=0.8,application/signed-exchange;v=b3;q=0.9',\n",
    "        'accept-encoding': 'gzip, deflate, br',\n",
    "        'accept-language': 'en-US,en;q=0.9,zh-CN;q=0.8,zh;q=0.7,tr;q=0.6',\n",
    "        'device-memory': '8',\n",
    "        'downlink': '10',\n",
    "        'dpr': '1.25',\n",
    "        'ect': '4g',\n",
    "        'referer': 'https://www.amazon.ca/Nintendo-Switch-Neon-Blue-Joy%E2%80%91/dp/B07VGRJDFY/ref=sr_1_2?crid=2479WGEHZ3ZBF&keywords=nintendo+switch&qid=1669412273&qu=eyJxc2MiOiI1LjAzIiwicXNhIjoiNS4zNiIsInFzcCI6IjUuMDcifQ%3D%3D&sprefix=nin%2Caps%2C113&sr=8-2',\n",
    "        'rtt': '100',\n",
    "        'sec-ch-device-memory': '8',\n",
    "        'sec-ch-dpr': '1.25',\n",
    "        'sec-ch-ua': '\"Google Chrome\";v=\"107\", \"Chromium\";v=\"107\", \"Not=A?Brand\";v=\"24\"',\n",
    "        'sec-ch-ua-mobile': '?0',\n",
    "        'sec-ch-ua-platform': '\"Windows\"',\n",
    "        'sec-ch-ua-platform-version': '\"10.0.0\"',\n",
    "        'sec-ch-viewport-width': '726',\n",
    "        'sec-fetch-dest': 'document',\n",
    "        'sec-fetch-mode': 'navigate',\n",
    "        'sec-fetch-site': 'same-origin',\n",
    "        'sec-fetch-user': '?1',\n",
    "        'upgrade-insecure-requests': '1',\n",
    "        'user-agent': 'Mozilla/5.0 (Windows NT 10.0; Win64; x64) AppleWebKit/537.36 (KHTML, like Gecko) Chrome/107.0.0.0 Safari/537.36',\n",
    "        'viewport-width': '726',\n",
    "    }\n",
    "\n",
    "    page = requests.get(url, headers=headers)\n",
    "\n",
    "    soup1 = BeautifulSoup(page.content, 'html.parser')\n",
    "\n",
    "    soup2 = BeautifulSoup(soup1.prettify(), 'html.parser')\n",
    "\n",
    "    title = soup2.find('span', {'class': 'a-size-large product-title-word-break'}).get_text()\n",
    "\n",
    "    price = soup2.find('span', {'class': 'a-offscreen'}).get_text()\n",
    "\n",
    "    rating = soup2.find('span', {'class': 'reviewCountTextLinkedHistogram noUnderline'}).get_text()\n",
    "    \n",
    "    price = price.strip()[1:]\n",
    "    title = title.strip()\n",
    "    rating = rating.strip()\n",
    "    \n",
    "    import datetime\n",
    "\n",
    "    today = datetime.date.today()\n",
    "    \n",
    "    import csv\n",
    "\n",
    "    header = ['Title', 'Price', 'Date', 'Rating']\n",
    "    data = [title, price, today, rating]\n",
    "    \n",
    "    with open('AmazonWebScraper.csv', 'a+', newline='', encoding='UTF8') as f:\n",
    "        writer = csv.writer(f)\n",
    "        writer.writerow(data)\n",
    "\n"
   ]
  },
  {
   "cell_type": "code",
   "execution_count": null,
   "id": "0e324d1e",
   "metadata": {},
   "outputs": [],
   "source": [
    "# run check_price after a set time and inputs data into the csv\n",
    "\n",
    "while(True):\n",
    "    check_price()\n",
    "    time.sleep(86400)"
   ]
  },
  {
   "cell_type": "code",
   "execution_count": 28,
   "id": "7fa633c5",
   "metadata": {},
   "outputs": [
    {
     "name": "stdout",
     "output_type": "stream",
     "text": [
      "                                               Title   Price        Date  \\\n",
      "0  Nintendo Switch™ with Neon Blue and Neon Red J...  399.96  2022-11-25   \n",
      "1  Nintendo Switch™ with Neon Blue and Neon Red J...  399.96  2022-11-25   \n",
      "2  Nintendo Switch™ with Neon Blue and Neon Red J...  399.96  2022-11-25   \n",
      "\n",
      "               Rating  \n",
      "0  5.0 out of 5 stars  \n",
      "1  5.0 out of 5 stars  \n",
      "2  5.0 out of 5 stars  \n"
     ]
    }
   ],
   "source": [
    "import pandas as pd\n",
    "\n",
    "df = pd.read_csv(r'C:\\Users\\ardau\\AmazonWebScraper.csv')\n",
    "\n",
    "print(df)"
   ]
  }
 ],
 "metadata": {
  "kernelspec": {
   "display_name": "Python 3 (ipykernel)",
   "language": "python",
   "name": "python3"
  },
  "language_info": {
   "codemirror_mode": {
    "name": "ipython",
    "version": 3
   },
   "file_extension": ".py",
   "mimetype": "text/x-python",
   "name": "python",
   "nbconvert_exporter": "python",
   "pygments_lexer": "ipython3",
   "version": "3.10.7"
  }
 },
 "nbformat": 4,
 "nbformat_minor": 5
}
